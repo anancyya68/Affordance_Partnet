{
 "cells": [
  {
   "cell_type": "code",
   "execution_count": 13,
   "id": "4ad0acd4-6761-450f-ade7-4dec89aae13e",
   "metadata": {},
   "outputs": [
    {
     "name": "stdout",
     "output_type": "stream",
     "text": [
      "Keys: ['gt_label', 'gt_mask', 'gt_other_mask', 'gt_valid', 'pts']\n",
      "Points shape: (1024, 10000, 3)\n",
      "[[4 2 4 ... 5 4 2]\n",
      " [5 2 4 ... 5 2 5]\n",
      " [5 2 4 ... 5 2 5]\n",
      " ...\n",
      " [5 2 4 ... 5 4 2]\n",
      " [2 4 4 ... 5 2 4]\n",
      " [2 4 3 ... 5 2 5]]\n",
      "(1024, 10000)\n",
      "[0 1 2 3 4 5]\n"
     ]
    }
   ],
   "source": [
    "import h5py\n",
    "import numpy as np\n",
    "\n",
    "with h5py.File('./data/Chair-1/train-00.h5', 'r') as f:\n",
    "    print(\"Keys:\", list(f.keys()))\n",
    "    points = f['pts'][:]\n",
    "    print(\"Points shape:\", points.shape)\n",
    "    print(f['gt_label'][:])\n",
    "    print(f['gt_label'][:].shape)\n",
    "    print( np.unique(f['gt_label'][:]))"
   ]
  },
  {
   "cell_type": "markdown",
   "id": "659f3992-cac8-4198-b2e8-5bdcfdd167b5",
   "metadata": {},
   "source": [
    "[0 1 2 3 4 5]\n",
    "\n",
    "Chair-level-1.txt\n",
    "2 chair/chair_head subcomponents\n",
    "5 chair/chair_back subcomponents\n",
    "16 chair/chair_arm subcomponents\n",
    "23 chair/chair_base subtypes\n",
    "45 chair/chair_seat subcomponents\n",
    "\n",
    "0可能是 背景类（unlabeled / other），用于标记不属于已知 part 的点"
   ]
  },
  {
   "cell_type": "code",
   "execution_count": 14,
   "id": "adcfe432-d926-44c9-9dde-a7b86072c99e",
   "metadata": {},
   "outputs": [
    {
     "name": "stdout",
     "output_type": "stream",
     "text": [
      "Keys: ['gt_label', 'gt_mask', 'gt_other_mask', 'gt_valid', 'pts']\n",
      "Points shape: (92, 10000, 3)\n",
      "[[1 3 3 ... 1 1 1]\n",
      " [1 1 2 ... 1 1 1]\n",
      " [1 1 2 ... 1 1 1]\n",
      " ...\n",
      " [2 1 1 ... 1 1 1]\n",
      " [2 1 1 ... 1 1 1]\n",
      " [2 1 2 ... 1 1 1]]\n",
      "(92, 10000)\n",
      "[0 1 2 3]\n"
     ]
    }
   ],
   "source": [
    "with h5py.File('./data/Bag-1/train-00.h5', 'r') as f:\n",
    "    print(\"Keys:\", list(f.keys()))\n",
    "    points = f['pts'][:]\n",
    "    print(\"Points shape:\", points.shape)\n",
    "    print(f['gt_label'][:])\n",
    "    print(f['gt_label'][:].shape)\n",
    "    print( np.unique(f['gt_label'][:]))"
   ]
  },
  {
   "cell_type": "markdown",
   "id": "84a99a3a-3e4d-4c84-8b5d-f8fd7eb5e5a9",
   "metadata": {},
   "source": [
    "Bag-level-1.txt\n",
    "\n",
    "2 bag/bag_body leaf\n",
    "3 bag/handle leaf\n",
    "4 bag/shoulder_strap leaf"
   ]
  },
  {
   "cell_type": "code",
   "execution_count": null,
   "id": "98a18ff7-a267-4b18-bfb3-95b461b244da",
   "metadata": {},
   "outputs": [],
   "source": []
  },
  {
   "cell_type": "code",
   "execution_count": null,
   "id": "f7b1c1d8-f7fc-4c28-b353-2218b70297f7",
   "metadata": {},
   "outputs": [],
   "source": []
  },
  {
   "cell_type": "code",
   "execution_count": null,
   "id": "9bf56737-c363-450c-a18a-f7eb4723c4f3",
   "metadata": {},
   "outputs": [],
   "source": []
  },
  {
   "cell_type": "code",
   "execution_count": null,
   "id": "87fce67e-a567-4db2-932f-9e63cb1dc40b",
   "metadata": {},
   "outputs": [],
   "source": []
  },
  {
   "cell_type": "code",
   "execution_count": null,
   "id": "72adf51e-0427-4dfd-9688-4546c6c4c9ca",
   "metadata": {},
   "outputs": [],
   "source": []
  },
  {
   "cell_type": "code",
   "execution_count": null,
   "id": "f52c4185-833d-475a-8ba8-180ded46ce43",
   "metadata": {},
   "outputs": [],
   "source": []
  },
  {
   "cell_type": "code",
   "execution_count": null,
   "id": "cc12e6cb-fe03-4fad-af7f-9805e6737634",
   "metadata": {},
   "outputs": [],
   "source": []
  },
  {
   "cell_type": "code",
   "execution_count": null,
   "id": "1161aef0-6c93-4bbd-8a60-173cdd20fa6b",
   "metadata": {},
   "outputs": [],
   "source": []
  },
  {
   "cell_type": "code",
   "execution_count": null,
   "id": "990b9684-1971-4a94-bdd7-0e9088b1039f",
   "metadata": {},
   "outputs": [],
   "source": []
  },
  {
   "cell_type": "code",
   "execution_count": null,
   "id": "634ca07b-b9fa-4035-9d39-c7931baf0d5b",
   "metadata": {},
   "outputs": [],
   "source": []
  }
 ],
 "metadata": {
  "kernelspec": {
   "display_name": "Python 3 (ipykernel)",
   "language": "python",
   "name": "python3"
  },
  "language_info": {
   "codemirror_mode": {
    "name": "ipython",
    "version": 3
   },
   "file_extension": ".py",
   "mimetype": "text/x-python",
   "name": "python",
   "nbconvert_exporter": "python",
   "pygments_lexer": "ipython3",
   "version": "3.11.8"
  }
 },
 "nbformat": 4,
 "nbformat_minor": 5
}
